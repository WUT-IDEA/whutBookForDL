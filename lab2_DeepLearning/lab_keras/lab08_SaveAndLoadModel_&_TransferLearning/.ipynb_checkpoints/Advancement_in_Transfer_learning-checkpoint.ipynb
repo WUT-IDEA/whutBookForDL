{
 "cells": [
  {
   "cell_type": "markdown",
   "metadata": {},
   "source": [
    "Keras迁移学习高阶教程\n",
    "====\n",
    "本节介绍迁移学习中重要的两个finetuning方案：\n",
    "----\n",
    "1.freeze parameteres <br>\n",
    "2.load some of parameters"
   ]
  },
  {
   "cell_type": "markdown",
   "metadata": {},
   "source": [
    "<h1>1.freeze parameteres"
   ]
  },
  {
   "cell_type": "markdown",
   "metadata": {},
   "source": [
    "假设model使我们的整体模型<br>\n",
    "```\n",
    "for layer in model.layers:\n",
    "    layer.trainable = False\n",
    "```\n",
    "<br>`trainable`是网络不可训练，即参数不变"
   ]
  },
  {
   "cell_type": "markdown",
   "metadata": {},
   "source": [
    "<h1>2.load some of parameters"
   ]
  },
  {
   "cell_type": "markdown",
   "metadata": {},
   "source": [
    "这是本节的重点，我们将举一个例子帮助我们理解。<br>\n",
    "（考虑到freeze parameters在pytorch官方教程中以有，我们跳过那个阶段）<br>\n",
    "首先看怎么导入全部参数"
   ]
  },
  {
   "cell_type": "markdown",
   "metadata": {},
   "source": [
    "FC完成MNIST识别，如若看不懂代码可以直接跳过这部分，看之后的导入参数<br>\n",
    "该代码自动检测GPU可否运行"
   ]
  },
  {
   "cell_type": "code",
   "execution_count": 1,
   "metadata": {},
   "outputs": [
    {
     "name": "stderr",
     "output_type": "stream",
     "text": [
      "Using TensorFlow backend.\n"
     ]
    },
    {
     "name": "stdout",
     "output_type": "stream",
     "text": [
      "('training data: x =', (60000, 28, 28), ', y =', (60000,))\n",
      "('test data: x =', (10000, 28, 28), ', y =', (10000,))\n",
      "('training data: x =', (60000, 784), ', y =', (60000, 10))\n",
      "('test data: x =', (10000, 784), ', y =', (10000, 10))\n",
      "_________________________________________________________________\n",
      "Layer (type)                 Output Shape              Param #   \n",
      "=================================================================\n",
      "dense_1 (Dense)              (None, 256)               200960    \n",
      "_________________________________________________________________\n",
      "dense_2 (Dense)              (None, 128)               32896     \n",
      "_________________________________________________________________\n",
      "dense_3 (Dense)              (None, 64)                8256      \n",
      "_________________________________________________________________\n",
      "dense_4 (Dense)              (None, 10)                650       \n",
      "=================================================================\n",
      "Total params: 242,762\n",
      "Trainable params: 242,762\n",
      "Non-trainable params: 0\n",
      "_________________________________________________________________\n",
      "Train on 60000 samples, validate on 10000 samples\n",
      "Epoch 1/10\n",
      "60000/60000 [==============================] - 2s - loss: 0.0393 - acc: 0.7287 - val_loss: 0.0101 - val_acc: 0.9343\n",
      "Epoch 2/10\n",
      "60000/60000 [==============================] - 1s - loss: 0.0088 - acc: 0.9440 - val_loss: 0.0070 - val_acc: 0.9544\n",
      "Epoch 3/10\n",
      "60000/60000 [==============================] - 1s - loss: 0.0063 - acc: 0.9604 - val_loss: 0.0062 - val_acc: 0.9592\n",
      "Epoch 4/10\n",
      "60000/60000 [==============================] - 1s - loss: 0.0051 - acc: 0.9680 - val_loss: 0.0052 - val_acc: 0.9665\n",
      "Epoch 5/10\n",
      "60000/60000 [==============================] - 1s - loss: 0.0043 - acc: 0.9743 - val_loss: 0.0051 - val_acc: 0.9667\n",
      "Epoch 6/10\n",
      "60000/60000 [==============================] - 1s - loss: 0.0038 - acc: 0.9777 - val_loss: 0.0046 - val_acc: 0.9700\n",
      "Epoch 7/10\n",
      "60000/60000 [==============================] - 1s - loss: 0.0033 - acc: 0.9806 - val_loss: 0.0043 - val_acc: 0.9716\n",
      "Epoch 8/10\n",
      "60000/60000 [==============================] - 1s - loss: 0.0029 - acc: 0.9833 - val_loss: 0.0041 - val_acc: 0.9729\n",
      "Epoch 9/10\n",
      "60000/60000 [==============================] - 1s - loss: 0.0026 - acc: 0.9853 - val_loss: 0.0039 - val_acc: 0.9740\n",
      "Epoch 10/10\n",
      "60000/60000 [==============================] - 1s - loss: 0.0024 - acc: 0.9870 - val_loss: 0.0038 - val_acc: 0.9752\n"
     ]
    }
   ],
   "source": [
    "from keras.datasets import mnist\n",
    "\n",
    "(x_train, y_train), (x_test, y_test) = mnist.load_data()\n",
    "\n",
    "print('training data: x =', x_train.shape, ', y =', y_train.shape)\n",
    "print('test data: x =', x_test.shape, ', y =', y_test.shape)\n",
    "\n",
    "import keras\n",
    "\n",
    "num_classes = 10\n",
    "\n",
    "x_train = x_train.reshape(x_train.shape[0], -1).astype('float32') / 255\n",
    "x_test = x_test.reshape(x_test.shape[0], -1).astype('float32') / 255\n",
    "\n",
    "# convert class vectors to binary class matrices\n",
    "y_train = keras.utils.to_categorical(y_train, num_classes)\n",
    "y_test = keras.utils.to_categorical(y_test, num_classes)\n",
    "\n",
    "print('training data: x =', x_train.shape, ', y =', y_train.shape)\n",
    "print('test data: x =', x_test.shape, ', y =', y_test.shape)\n",
    "\n",
    "image_size = x_train.shape[-1]\n",
    "\n",
    "from keras.models import Sequential\n",
    "from keras.layers import Dense, Dropout\n",
    "\n",
    "model = Sequential()\n",
    "model.add(Dense(256, activation='relu', input_shape=(image_size,)))\n",
    "model.add(Dense(128, activation='relu'))\n",
    "model.add(Dense(64, activation='relu'))\n",
    "model.add(Dense(10, activation='softmax'))\n",
    "\n",
    "model.summary()\n",
    "\n",
    "from keras.optimizers import *\n",
    "\n",
    "from keras.losses import MSE\n",
    "\n",
    "model.compile(loss=MSE,\n",
    "              optimizer=Adagrad(),\n",
    "              metrics=['accuracy'])\n",
    "\n",
    "model.fit(x_train, y_train,\n",
    "          batch_size=1000,\n",
    "          epochs=10,\n",
    "          verbose=1,\n",
    "          validation_data=(x_test, y_test))\n",
    "\n",
    "model.save(filepath='model.h5')"
   ]
  },
  {
   "cell_type": "markdown",
   "metadata": {},
   "source": [
    "至此在本地文件夹中存在一个`model.h5`文件，里面保存着我们的模型参数<br>\n",
    "保存模型参数：``model.save(filepath='model.h5')``<br>\n",
    "导入模型参数：``model.load_weights(filepath='model.h5', by_name=True)``<br>"
   ]
  },
  {
   "cell_type": "markdown",
   "metadata": {},
   "source": [
    "Keras中的参数是根据名字导入的"
   ]
  }
 ],
 "metadata": {
  "kernelspec": {
   "display_name": "Python 2",
   "language": "python",
   "name": "python2"
  },
  "language_info": {
   "codemirror_mode": {
    "name": "ipython",
    "version": 2
   },
   "file_extension": ".py",
   "mimetype": "text/x-python",
   "name": "python",
   "nbconvert_exporter": "python",
   "pygments_lexer": "ipython2",
   "version": "2.7.12"
  }
 },
 "nbformat": 4,
 "nbformat_minor": 1
}
