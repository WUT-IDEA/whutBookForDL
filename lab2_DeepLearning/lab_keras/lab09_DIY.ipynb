{
 "cells": [
  {
   "cell_type": "markdown",
   "metadata": {},
   "source": [
    "# Keras DIY自定义"
   ]
  },
  {
   "cell_type": "markdown",
   "metadata": {},
   "source": [
    "## 自定义loss函数\n",
    "一定要写成`y_true, y_pred`"
   ]
  },
  {
   "cell_type": "code",
   "execution_count": 1,
   "metadata": {},
   "outputs": [
    {
     "name": "stderr",
     "output_type": "stream",
     "text": [
      "Using TensorFlow backend.\n"
     ]
    }
   ],
   "source": [
    "from keras import backend as K\n",
    "\n",
    "def MSE_loss(y_true, y_pred):\n",
    "    return K.mean(K.square(y_pred - y_true), axis=-1)"
   ]
  },
  {
   "cell_type": "markdown",
   "metadata": {},
   "source": [
    "## 自定义metrics指标\n",
    "与定义loss函数相似，一定要写成`y_true, y_pred`"
   ]
  },
  {
   "cell_type": "code",
   "execution_count": 2,
   "metadata": {},
   "outputs": [],
   "source": [
    "from keras import backend as K\n",
    "\n",
    "def categorical_accuracy(y_true, y_pred):\n",
    "    return K.cast(K.equal(K.argmax(y_true, axis=-1),\n",
    "                          K.argmax(y_pred, axis=-1)),\n",
    "                  K.floatx())"
   ]
  },
  {
   "cell_type": "markdown",
   "metadata": {},
   "source": [
    "## 自定义layer\n",
    "以全相连网络为例。<br>\n",
    "以下的是一些基础参数，必须要有，其他的可以自行添加。<br>\n",
    "`bias`中的`shape`一定要写成这样`shape=(self.output_dim,)`。这是一个迭代器。"
   ]
  },
  {
   "cell_type": "code",
   "execution_count": 3,
   "metadata": {},
   "outputs": [],
   "source": [
    "from keras import backend as K\n",
    "from keras.engine.topology import Layer\n",
    "\n",
    "class Linear(Layer):\n",
    "    def __init__(self, output_dim,\n",
    "                 **kwargs):\n",
    "        super(Linear, self).__init__(**kwargs)\n",
    "        self.output_dim = output_dim\n",
    "\n",
    "    def build(self, input_shape):\n",
    "        assert len(input_shape) >= 2\n",
    "        input_dim = input_shape[-1]\n",
    "\n",
    "        self.kernel = self.add_weight(\n",
    "            name='weights',\n",
    "            shape=(input_dim, self.output_dim),\n",
    "            initializer='uniform',\n",
    "            trainable=True)\n",
    "        self.bias = self.add_weight(\n",
    "            name='bias',\n",
    "            shape=(self.output_dim,),\n",
    "            initializer='uniform',\n",
    "            trainable=True)\n",
    "\n",
    "    def call(self, x):\n",
    "        out = K.dot(x, self.kernel)\n",
    "        out = K.bias_add(out, self.bias)\n",
    "        return out\n",
    "\n",
    "    def compute_output_shape(self, input_shape):\n",
    "        return (input_shape[0], self.output_dim)"
   ]
  },
  {
   "cell_type": "markdown",
   "metadata": {},
   "source": [
    "## 自定义 optimizer"
   ]
  },
  {
   "cell_type": "code",
   "execution_count": 4,
   "metadata": {},
   "outputs": [],
   "source": [
    "from keras import backend as K\n",
    "from keras.optimizers import Optimizer\n",
    "\n",
    "\n",
    "class toy_SGD(Optimizer):\n",
    "    def __init__(self, lr=0.01, **kwargs):\n",
    "        super(toy_SGD, self).__init__(**kwargs)\n",
    "        with K.name_scope(self.__class__.__name__):\n",
    "            self.iterations = K.variable(0, dtype='int64', name='iterations')\n",
    "            self.lr = K.variable(lr, name='lr')\n",
    "\n",
    "    def get_updates(self, loss, params):\n",
    "        grads = self.get_gradients(loss, params)\n",
    "        self.updates = [K.update_add(self.iterations, 1)]\n",
    "        lr = self.lr\n",
    "        for p, g in zip(params, grads):\n",
    "            v = - lr * g  # velocity\n",
    "            new_p = p + v\n",
    "            self.updates.append(K.update(p, new_p))\n",
    "        return self.updates"
   ]
  },
  {
   "cell_type": "markdown",
   "metadata": {},
   "source": [
    "## Callbacks回调函数\n",
    "Callbacks回调函数的作用是：对每次训练完成时（可以是一次batch，也可以是一次迭代）的进行一次自定义操作。keras的fit是默认每次batch输出训练过程。\n",
    "<br>\n",
    "常用回调函数有：<br>\n",
    "\n",
    "### `keras.callbacks.ModelCheckpoint()`保存模型<br>\n",
    "```\n",
    "from keras.callbacks import ModelCheckpoint\n",
    "\n",
    "model_checkpoint = ModelCheckpoint(filepath='model.hdf5', verbose=1, period=2)\n",
    "```\n",
    "`filepath`是目标文件路径，`verbose`是显示保存输出，`period`是保存模型迭代间隔。\n",
    "\n",
    "### `keras.callbacks.EarlyStopping()`控制训练<br>\n",
    "```\n",
    "from keras.callbacks import EarlyStopping\n",
    "\n",
    "early_stopping = EarlyStopping(monitor='acc', patience=2, verbose=1, mode='auto')\n",
    "```\n",
    "`monitor`是监视目标，`patience`是进过多少个epoch之后，目标值不改变而停止的时间，mode可以为`auto`，`min`和`max`分别表示目标值不大幅度改变/下降/上升时停止。\n",
    "\n",
    "\n",
    "### `keras.callbacks.LambdaCallback()`可以简单控制训练过程<br>\n",
    "`LambdaCallback`可以在每个epoch前后(`on_epoch_begin`/`on_epoch_end`)，batch前后(`on_batch_begin`/`on_batch_end`)和训练前后(`on_train_begin`/`on_train_end`)调用其他函数。\n",
    "<br>\n",
    "```\n",
    "from keras.callbacks import LambdaCallback\n",
    "\n",
    "lambda_callback = LambdaCallback(\n",
    "    # batch: batch_number logs: {'batch': batch_number, 'size': batch_size}/\n",
    "    on_batch_begin=lambda batch, logs: print(batch, logs),\n",
    "\n",
    "    # batch: batch_number logs: {'acc': acc_value, 'loss': loss_value, 'batch': batch_number, 'size': batch_size}\n",
    "    on_batch_end=lambda batch, logs: print(batch, logs),\n",
    "\n",
    "    # epoch_number {}\n",
    "    on_epoch_begin=lambda epoch, logs: print(epoch, logs),\n",
    "\n",
    "    # epoch_number {'acc': acc_value, 'loss': loss_value}\n",
    "    on_epoch_end=lambda epoch, logs: print(epoch, logs),\n",
    "\n",
    "    # nothing\n",
    "    on_train_begin=lambda logs: print(logs),\n",
    "\n",
    "    # {}\n",
    "    on_train_end=lambda logs: print(logs),\n",
    ")<br>\n",
    "```\n",
    "\n",
    "### 复写`Callback`，灵活控制训练过程<br>\n",
    "```\n",
    "class LossHistory(keras.callbacks.Callback):\n",
    "    def __init__(self):\n",
    "        pass\n",
    "\n",
    "    def on_batch_begin(self, batch, logs=None):\n",
    "        pass\n",
    "\n",
    "    def on_batch_end(self, batch, logs=None):\n",
    "        pass\n",
    "\n",
    "    def on_epoch_begin(self, epoch, logs=None):\n",
    "        pass\n",
    "\n",
    "    def on_epoch_end(self, epoch, logs=None):\n",
    "        pass\n",
    "\n",
    "    def on_train_begin(self, logs=None):\n",
    "        pass\n",
    "\n",
    "    def on_train_end(self, logs=None):\n",
    "        pass\n",
    "```"
   ]
  },
  {
   "cell_type": "code",
   "execution_count": 5,
   "metadata": {},
   "outputs": [
    {
     "name": "stdout",
     "output_type": "stream",
     "text": [
      "_________________________________________________________________\n",
      "Layer (type)                 Output Shape              Param #   \n",
      "=================================================================\n",
      "dense_1 (Dense)              (None, 128)               100480    \n",
      "_________________________________________________________________\n",
      "dense_2 (Dense)              (None, 10)                1290      \n",
      "=================================================================\n",
      "Total params: 101,770\n",
      "Trainable params: 101,770\n",
      "Non-trainable params: 0\n",
      "_________________________________________________________________\n",
      "Epoch 10, acc: 0.99202, loss: 0.02823\n",
      "Epoch 20, acc: 0.99868, loss: 0.00638\n",
      "Epoch 30, acc: 0.99860, loss: 0.00482\n",
      "Epoch 40, acc: 1.00000, loss: 0.00035\n",
      "Epoch 50, acc: 1.00000, loss: 0.00014\n",
      "Epoch 60, acc: 1.00000, loss: 0.00011\n",
      "Epoch 70, acc: 0.99988, loss: 0.00055\n",
      "Epoch 80, acc: 1.00000, loss: 0.00002\n",
      "Epoch 90, acc: 1.00000, loss: 0.00002\n",
      "Epoch 100, acc: 0.99993, loss: 0.00033\n"
     ]
    },
    {
     "data": {
      "text/plain": [
       "<keras.callbacks.History at 0x7fc2e7963b10>"
      ]
     },
     "execution_count": 5,
     "metadata": {},
     "output_type": "execute_result"
    }
   ],
   "source": [
    "from __future__ import print_function\n",
    "\n",
    "# hyper-parameter\n",
    "training_epoch = 100\n",
    "num_classes = 10\n",
    "learning_rate = 1e-3\n",
    "\n",
    "import keras\n",
    "from keras.datasets import mnist\n",
    "\n",
    "(x_train, y_train), _ = mnist.load_data()\n",
    "\n",
    "x_train = x_train.reshape(x_train.shape[0], -1).astype('float32') / 255\n",
    "# convert class vectors to binary class matrices\n",
    "y_train = keras.utils.to_categorical(y_train, num_classes)\n",
    "image_size = x_train.shape[-1]\n",
    "\n",
    "from keras.models import Sequential\n",
    "from keras.layers import Dense\n",
    "\n",
    "model = Sequential()\n",
    "model.add(Dense(128, activation='relu', input_shape=(image_size,)))\n",
    "model.add(Dense(10, activation='softmax'))\n",
    "\n",
    "model.summary()\n",
    "\n",
    "from keras.optimizers import *\n",
    "\n",
    "model.compile(loss='categorical_crossentropy',\n",
    "              optimizer=Adam(learning_rate),\n",
    "              metrics=['accuracy'])\n",
    "\n",
    "\n",
    "class LossHistory(keras.callbacks.Callback):\n",
    "    def __init__(self):\n",
    "        self.acc = {}\n",
    "        self.loss = {}\n",
    "\n",
    "    def on_epoch_end(self, epoch, logs=None):\n",
    "        self.acc[epoch] = logs['acc']\n",
    "        self.loss[epoch] = logs['loss']\n",
    "        # model.save('model.h5')\n",
    "        if (epoch + 1) % 10 == 0:\n",
    "            print('Epoch %s, acc: %.5f, loss: %.5f' % (epoch+1, logs['acc'], logs['loss']))\n",
    "\n",
    "\n",
    "history = LossHistory()\n",
    "\n",
    "model.fit(x_train, y_train,\n",
    "          batch_size=100,\n",
    "          epochs=training_epoch,\n",
    "          callbacks=[history],\n",
    "          verbose=0)\n"
   ]
  },
  {
   "cell_type": "markdown",
   "metadata": {},
   "source": [
    "## Keras模型可视化\n",
    "需要安装graphviz/pydot（`pip install ~`）"
   ]
  },
  {
   "cell_type": "code",
   "execution_count": null,
   "metadata": {},
   "outputs": [],
   "source": [
    "from keras.utils.vis_utils import plot_model\n",
    "\n",
    "plot_model(model, to_file='model.png', show_shapes=True)"
   ]
  },
  {
   "cell_type": "markdown",
   "metadata": {},
   "source": [
    "## Keras还可以自定义正则化公式。再次不做展示"
   ]
  }
 ],
 "metadata": {
  "kernelspec": {
   "display_name": "Python 2",
   "language": "python",
   "name": "python2"
  },
  "language_info": {
   "codemirror_mode": {
    "name": "ipython",
    "version": 2
   },
   "file_extension": ".py",
   "mimetype": "text/x-python",
   "name": "python",
   "nbconvert_exporter": "python",
   "pygments_lexer": "ipython2",
   "version": "2.7.12"
  }
 },
 "nbformat": 4,
 "nbformat_minor": 2
}
