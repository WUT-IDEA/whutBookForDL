{
 "cells": [
  {
   "cell_type": "code",
   "execution_count": 1,
   "metadata": {},
   "outputs": [],
   "source": [
    "# -*- coding: utf-8 -*-\n",
    "# !/usr/bin/env python\n",
    "'''\n",
    "@author: Yang\n",
    "@time: 18-2-24 下午2:08\n",
    "'''\n",
    "\n",
    "from __future__ import print_function\n",
    "\n",
    "import torch\n",
    "import torch.utils.data as data\n",
    "from torch.utils.data import Dataset\n",
    "import numpy as np\n",
    "import os"
   ]
  },
  {
   "cell_type": "code",
   "execution_count": 2,
   "metadata": {},
   "outputs": [],
   "source": [
    "def fake_data_generator(num=100):\n",
    "    # define make direction func\n",
    "    def mkdir(name=None):\n",
    "        if os.path.exists(name):\n",
    "            pass\n",
    "        else:\n",
    "            os.mkdir(name)\n",
    "\n",
    "    # generate images\n",
    "    mkdir(name='images')\n",
    "    for i in xrange(num):\n",
    "        new_array = np.zeros(shape=(10, 10), dtype=np.float32) * num\n",
    "        np.save(file='images/%s.npy' % i, arr=new_array)\n",
    "    # generate text\n",
    "    mkdir(name='text')\n",
    "    for i in xrange(num):\n",
    "        new_text = str(i)\n",
    "        with open('text/%s.txt' % i, mode='wb') as text_buffer:\n",
    "            text_buffer.write(new_text)\n",
    "\n",
    "\n",
    "fake_data_generator()"
   ]
  },
  {
   "cell_type": "code",
   "execution_count": 3,
   "metadata": {},
   "outputs": [
    {
     "name": "stdout",
     "output_type": "stream",
     "text": [
      "(['images/0.npy', 'images/1.npy', 'images/2.npy', 'images/3.npy', 'images/4.npy', 'images/5.npy', 'images/6.npy', 'images/7.npy', 'images/8.npy', 'images/9.npy'], ['text/0.txt', 'text/1.txt', 'text/2.txt', 'text/3.txt', 'text/4.txt', 'text/5.txt', 'text/6.txt', 'text/7.txt', 'text/8.txt', 'text/9.txt'])\n",
      "(['images/10.npy', 'images/11.npy', 'images/12.npy', 'images/13.npy', 'images/14.npy', 'images/15.npy', 'images/16.npy', 'images/17.npy', 'images/18.npy', 'images/19.npy'], ['text/10.txt', 'text/11.txt', 'text/12.txt', 'text/13.txt', 'text/14.txt', 'text/15.txt', 'text/16.txt', 'text/17.txt', 'text/18.txt', 'text/19.txt'])\n",
      "(['images/20.npy', 'images/21.npy', 'images/22.npy', 'images/23.npy', 'images/24.npy', 'images/25.npy', 'images/26.npy', 'images/27.npy', 'images/28.npy', 'images/29.npy'], ['text/20.txt', 'text/21.txt', 'text/22.txt', 'text/23.txt', 'text/24.txt', 'text/25.txt', 'text/26.txt', 'text/27.txt', 'text/28.txt', 'text/29.txt'])\n",
      "(['images/30.npy', 'images/31.npy', 'images/32.npy', 'images/33.npy', 'images/34.npy', 'images/35.npy', 'images/36.npy', 'images/37.npy', 'images/38.npy', 'images/39.npy'], ['text/30.txt', 'text/31.txt', 'text/32.txt', 'text/33.txt', 'text/34.txt', 'text/35.txt', 'text/36.txt', 'text/37.txt', 'text/38.txt', 'text/39.txt'])\n",
      "(['images/40.npy', 'images/41.npy', 'images/42.npy', 'images/43.npy', 'images/44.npy', 'images/45.npy', 'images/46.npy', 'images/47.npy', 'images/48.npy', 'images/49.npy'], ['text/40.txt', 'text/41.txt', 'text/42.txt', 'text/43.txt', 'text/44.txt', 'text/45.txt', 'text/46.txt', 'text/47.txt', 'text/48.txt', 'text/49.txt'])\n",
      "(['images/50.npy', 'images/51.npy', 'images/52.npy', 'images/53.npy', 'images/54.npy', 'images/55.npy', 'images/56.npy', 'images/57.npy', 'images/58.npy', 'images/59.npy'], ['text/50.txt', 'text/51.txt', 'text/52.txt', 'text/53.txt', 'text/54.txt', 'text/55.txt', 'text/56.txt', 'text/57.txt', 'text/58.txt', 'text/59.txt'])\n",
      "(['images/60.npy', 'images/61.npy', 'images/62.npy', 'images/63.npy', 'images/64.npy', 'images/65.npy', 'images/66.npy', 'images/67.npy', 'images/68.npy', 'images/69.npy'], ['text/60.txt', 'text/61.txt', 'text/62.txt', 'text/63.txt', 'text/64.txt', 'text/65.txt', 'text/66.txt', 'text/67.txt', 'text/68.txt', 'text/69.txt'])\n",
      "(['images/70.npy', 'images/71.npy', 'images/72.npy', 'images/73.npy', 'images/74.npy', 'images/75.npy', 'images/76.npy', 'images/77.npy', 'images/78.npy', 'images/79.npy'], ['text/70.txt', 'text/71.txt', 'text/72.txt', 'text/73.txt', 'text/74.txt', 'text/75.txt', 'text/76.txt', 'text/77.txt', 'text/78.txt', 'text/79.txt'])\n",
      "(['images/80.npy', 'images/81.npy', 'images/82.npy', 'images/83.npy', 'images/84.npy', 'images/85.npy', 'images/86.npy', 'images/87.npy', 'images/88.npy', 'images/89.npy'], ['text/80.txt', 'text/81.txt', 'text/82.txt', 'text/83.txt', 'text/84.txt', 'text/85.txt', 'text/86.txt', 'text/87.txt', 'text/88.txt', 'text/89.txt'])\n",
      "(['images/90.npy', 'images/91.npy', 'images/92.npy', 'images/93.npy', 'images/94.npy', 'images/95.npy', 'images/96.npy', 'images/97.npy', 'images/98.npy', 'images/99.npy'], ['text/90.txt', 'text/91.txt', 'text/92.txt', 'text/93.txt', 'text/94.txt', 'text/95.txt', 'text/96.txt', 'text/97.txt', 'text/98.txt', 'text/99.txt'])\n"
     ]
    }
   ],
   "source": [
    "class Generator():\n",
    "    def __init__(self, img_dir, text_dir, batch_size=10):\n",
    "        self.batch_index = 0\n",
    "        self.img_dir = img_dir\n",
    "        self.text_dir = text_dir\n",
    "        self.batch_size = batch_size\n",
    "        assert len(os.listdir(self.text_dir)) == len(os.listdir(self.text_dir))\n",
    "        self.NUM = len(os.listdir(self.text_dir))\n",
    "\n",
    "    def next(self):\n",
    "        batch_img = ['%s/%s.npy' % (self.img_dir, i % self.NUM) for i in \\\n",
    "                     xrange(self.batch_index, self.batch_index + self.batch_size)]\n",
    "        batch_text = ['%s/%s.txt' % (self.text_dir, i % self.NUM) for i in \\\n",
    "                      xrange(self.batch_index, self.batch_index + self.batch_size)]\n",
    "        self.batch_index = (self.batch_index + self.batch_size) % self.NUM\n",
    "        return (batch_img, batch_text)\n",
    "\n",
    "    def __len__(self):\n",
    "        return self.NUM // self.batch_size\n",
    "\n",
    "\n",
    "gen = Generator(img_dir='images', text_dir='text')\n",
    "for _ in xrange(len(gen)):\n",
    "    print(next(gen))"
   ]
  },
  {
   "cell_type": "code",
   "execution_count": null,
   "metadata": {},
   "outputs": [],
   "source": []
  }
 ],
 "metadata": {
  "kernelspec": {
   "display_name": "Python 2",
   "language": "python",
   "name": "python2"
  },
  "language_info": {
   "codemirror_mode": {
    "name": "ipython",
    "version": 2
   },
   "file_extension": ".py",
   "mimetype": "text/x-python",
   "name": "python",
   "nbconvert_exporter": "python",
   "pygments_lexer": "ipython2",
   "version": "2.7.12"
  }
 },
 "nbformat": 4,
 "nbformat_minor": 2
}
