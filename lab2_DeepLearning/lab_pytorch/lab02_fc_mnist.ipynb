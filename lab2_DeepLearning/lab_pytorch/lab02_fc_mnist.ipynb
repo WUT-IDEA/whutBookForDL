{
 "cells": [
  {
   "cell_type": "code",
   "execution_count": 1,
   "metadata": {},
   "outputs": [],
   "source": [
    "%matplotlib inline"
   ]
  },
  {
   "cell_type": "markdown",
   "metadata": {},
   "source": [
    "# Pytorch 全相连网络(Full Connected Network)"
   ]
  },
  {
   "cell_type": "code",
   "execution_count": 2,
   "metadata": {},
   "outputs": [],
   "source": [
    "# -*- coding: utf-8 -*-\n",
    "#!/usr/bin/env python\n",
    "\n",
    "from __future__ import print_function"
   ]
  },
  {
   "cell_type": "markdown",
   "metadata": {},
   "source": [
    "导入MNIST数据集"
   ]
  },
  {
   "cell_type": "code",
   "execution_count": 3,
   "metadata": {},
   "outputs": [
    {
     "name": "stdout",
     "output_type": "stream",
     "text": [
      "CUDA available? True\n"
     ]
    }
   ],
   "source": [
    "import torch\n",
    "import torch.nn as nn\n",
    "from torch.autograd import Variable\n",
    "import torch.utils.data as Data\n",
    "import torch.nn.functional as F\n",
    "import torchvision\n",
    "\n",
    "# hyper-parameter\n",
    "training_epoch=100\n",
    "num_classes = 10\n",
    "learning_rate=1e-3\n",
    "batch_size=100\n",
    "\n",
    "# 查看Pytorch是否支持GPU\n",
    "GPU_FLAG = torch.cuda.is_available()\n",
    "print('CUDA available?', GPU_FLAG)\n",
    "\n",
    "# Mnist digits dataset\n",
    "train_data = torchvision.datasets.MNIST(\n",
    "    root='data/',\n",
    "    train=True,\n",
    "    transform=torchvision.transforms.ToTensor(),\n",
    "    download=True,\n",
    ")\n",
    "\n",
    "test_data = torchvision.datasets.MNIST(\n",
    "    root='data/',\n",
    "    train=False,\n",
    "    transform=torchvision.transforms.ToTensor(),\n",
    "    download=True,\n",
    ")\n",
    "\n",
    "train_loader = Data.DataLoader(dataset=train_data, batch_size=batch_size, shuffle=True)\n",
    "test_loader = Data.DataLoader(dataset=train_data, batch_size=batch_size, shuffle=True)"
   ]
  },
  {
   "cell_type": "markdown",
   "metadata": {},
   "source": [
    "创建网络"
   ]
  },
  {
   "cell_type": "code",
   "execution_count": 4,
   "metadata": {
    "scrolled": true
   },
   "outputs": [
    {
     "name": "stdout",
     "output_type": "stream",
     "text": [
      "Net (\n",
      "  (fc1): Linear (784 -> 256)\n",
      "  (fc2): Linear (256 -> 10)\n",
      ")\n"
     ]
    }
   ],
   "source": [
    "class Net(nn.Module):\n",
    "    def __init__(self):\n",
    "        super(Net, self).__init__()\n",
    "\n",
    "        self.fc1 = nn.Linear(28 * 28, 256)\n",
    "        self.fc2 = nn.Linear(256, num_classes)\n",
    "\n",
    "    def forward(self, x):\n",
    "        out = F.relu(self.fc1(x))\n",
    "        out = self.fc2(out)\n",
    "        return out\n",
    "\n",
    "net=Net()\n",
    "\n",
    "# 将模型的参数送到GPU中\n",
    "if GPU_FLAG==True:\n",
    "    net.cuda()\n",
    "print(net) # 输出模型结构\n",
    "\n",
    "criterion = nn.CrossEntropyLoss() # 定义loss函数\n",
    "optimizer = torch.optim.Adam(net.parameters(), lr=learning_rate)"
   ]
  },
  {
   "cell_type": "markdown",
   "metadata": {},
   "source": [
    "检验 estimaton"
   ]
  },
  {
   "cell_type": "code",
   "execution_count": 5,
   "metadata": {},
   "outputs": [],
   "source": [
    "def evaluate():\n",
    "    correct = 0\n",
    "    total = 0\n",
    "    for images, labels in test_loader:\n",
    "        images = Variable(images.view(-1, 28 * 28)).cuda()\n",
    "        outputs = net(images)\n",
    "        _, predicted = torch.max(outputs.data, 1)\n",
    "        total += labels.size(0)\n",
    "        correct += (predicted.cpu() == labels).sum()\n",
    "    return 1.0 * correct / total"
   ]
  },
  {
   "cell_type": "markdown",
   "metadata": {},
   "source": [
    "training"
   ]
  },
  {
   "cell_type": "code",
   "execution_count": 6,
   "metadata": {},
   "outputs": [
    {
     "name": "stdout",
     "output_type": "stream",
     "text": [
      "Epoch 10 / 100, training loss: 0.0180823849274, test accuracy: 0.996883333333\n",
      "Epoch 20 / 100, training loss: 0.0031534965643, test accuracy: 0.99855\n",
      "Epoch 30 / 100, training loss: 0.000151748574426, test accuracy: 0.999716666667\n",
      "Epoch 40 / 100, training loss: 6.16827692168e-05, test accuracy: 1.0\n",
      "Epoch 50 / 100, training loss: 4.14097788522e-05, test accuracy: 1.0\n",
      "Epoch 60 / 100, training loss: 5.09822486252e-05, test accuracy: 1.0\n",
      "Epoch 70 / 100, training loss: 1.0547668332e-05, test accuracy: 1.0\n",
      "Epoch 80 / 100, training loss: 1.51084291302e-05, test accuracy: 1.0\n",
      "Epoch 90 / 100, training loss: 0.000142188140945, test accuracy: 1.0\n",
      "Epoch 100 / 100, training loss: 5.8979481126e-06, test accuracy: 1.0\n"
     ]
    }
   ],
   "source": [
    "for i in xrange(1,1+training_epoch):\n",
    "    cost = 0.0\n",
    "    for j, (images, labels) in enumerate(train_loader):\n",
    "        if GPU_FLAG:\n",
    "            x = Variable(images).view(-1, 28 ** 2).cuda()\n",
    "            y = Variable(labels).cuda()\n",
    "        else:\n",
    "            x = Variable(images)\n",
    "            y = Variable(labels)\n",
    "            \n",
    "        optimizer.zero_grad()\n",
    "        y_ = net(x)\n",
    "        loss = criterion(y_, y)\n",
    "        loss.backward()\n",
    "        optimizer.step()\n",
    "\n",
    "        cost += loss.data[0]\n",
    "    cost /= j + 1\n",
    "    if i % 10 == 0:\n",
    "        print('Epoch %s / %s, training loss: %s, test accuracy: %s' % (i, training_epoch, cost, evaluate()))"
   ]
  }
 ],
 "metadata": {
  "kernelspec": {
   "display_name": "Python 2",
   "language": "python",
   "name": "python2"
  },
  "language_info": {
   "codemirror_mode": {
    "name": "ipython",
    "version": 2
   },
   "file_extension": ".py",
   "mimetype": "text/x-python",
   "name": "python",
   "nbconvert_exporter": "python",
   "pygments_lexer": "ipython2",
   "version": "2.7.12"
  }
 },
 "nbformat": 4,
 "nbformat_minor": 1
}
