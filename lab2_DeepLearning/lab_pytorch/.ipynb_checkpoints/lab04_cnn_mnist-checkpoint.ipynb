{
 "cells": [
  {
   "cell_type": "code",
   "execution_count": 1,
   "metadata": {},
   "outputs": [],
   "source": [
    "%matplotlib inline"
   ]
  },
  {
   "cell_type": "markdown",
   "metadata": {},
   "source": [
    "卷积神经网络 - Convolutional Neural Network\n",
    "====\n",
    ">Python2.7 + Pytorch 1.2.0 backened\n",
    ">\n",
    ">MNIST"
   ]
  },
  {
   "cell_type": "code",
   "execution_count": 2,
   "metadata": {},
   "outputs": [],
   "source": [
    "# -*- coding: utf-8 -*-\n",
    "#!/usr/bin/env python\n",
    "'''\n",
    "@author: deep learning textbook of whut\n",
    "@date: 2017-10-31\n",
    "'''\n",
    "from __future__ import print_function"
   ]
  },
  {
   "cell_type": "code",
   "execution_count": 3,
   "metadata": {},
   "outputs": [
    {
     "data": {
      "text/plain": [
       "<torch._C.Generator at 0x7f358efb0348>"
      ]
     },
     "execution_count": 3,
     "metadata": {},
     "output_type": "execute_result"
    }
   ],
   "source": [
    "import torch\n",
    "import torch.nn as nn\n",
    "from torch.autograd import Variable\n",
    "import torch.nn.functional as F\n",
    "\n",
    "torch.manual_seed(1)  # reproducible"
   ]
  },
  {
   "cell_type": "code",
   "execution_count": 4,
   "metadata": {},
   "outputs": [],
   "source": [
    "GPU_FLAG = torch.cuda.is_available()\n",
    "\n",
    "# Hyper Parameters\n",
    "EPISODES = 10\n",
    "BATCH_SIZE = 1000"
   ]
  },
  {
   "cell_type": "markdown",
   "metadata": {},
   "source": [
    "数据迭代器"
   ]
  },
  {
   "cell_type": "code",
   "execution_count": 5,
   "metadata": {},
   "outputs": [],
   "source": [
    "import torch.utils.data as Data\n",
    "import torchvision\n",
    "\n",
    "# Mnist digits dataset\n",
    "train_data = torchvision.datasets.MNIST(\n",
    "    root='data/',\n",
    "    train=True,\n",
    "    transform=torchvision.transforms.ToTensor(),\n",
    "    download=True,\n",
    ")\n",
    "test_data = torchvision.datasets.MNIST(\n",
    "    root='data/',\n",
    "    train=False,\n",
    "    transform=torchvision.transforms.ToTensor(),\n",
    "    download=True,\n",
    ")\n",
    "\n",
    "train_loader = Data.DataLoader(dataset=train_data, batch_size=BATCH_SIZE, shuffle=True)\n",
    "test_loader = Data.DataLoader(dataset=test_data, batch_size=BATCH_SIZE, shuffle=True)"
   ]
  },
  {
   "cell_type": "markdown",
   "metadata": {},
   "source": [
    "建立网络"
   ]
  },
  {
   "cell_type": "code",
   "execution_count": 6,
   "metadata": {},
   "outputs": [
    {
     "name": "stdout",
     "output_type": "stream",
     "text": [
      "ConvNet (\n",
      "  (conv1): Conv2d(1, 16, kernel_size=(5, 5), stride=(1, 1))\n",
      "  (conv2): Conv2d(16, 32, kernel_size=(5, 5), stride=(1, 1))\n",
      "  (fc1): Linear (512 -> 256)\n",
      "  (fc2): Linear (256 -> 64)\n",
      "  (fc3): Linear (64 -> 10)\n",
      "  (criterion): CrossEntropyLoss (\n",
      "  )\n",
      ")\n"
     ]
    }
   ],
   "source": [
    "class ConvNet(nn.Module):\n",
    "    def __init__(self):\n",
    "        super(ConvNet, self).__init__()\n",
    "\n",
    "        self.conv1 = nn.Conv2d(in_channels=1,\n",
    "                               out_channels=16,\n",
    "                               kernel_size=5)\n",
    "        self.conv2 = nn.Conv2d(in_channels=16,\n",
    "                               out_channels=32,\n",
    "                               kernel_size=5)\n",
    "        self.fc1 = nn.Linear(512, 256)\n",
    "        self.fc2 = nn.Linear(256, 64)\n",
    "        self.fc3 = nn.Linear(64, 10)\n",
    "\n",
    "        # initialize\n",
    "        self.init_parameters()\n",
    "\n",
    "        # loss & optimizer\n",
    "        self.criterion = nn.CrossEntropyLoss()\n",
    "        self.optimizer = torch.optim.Adam(self.parameters(), lr=1e-3)\n",
    "\n",
    "    def init_parameters(self):\n",
    "        # initialize\n",
    "        for para in self.parameters():\n",
    "            # method 1\n",
    "            # xavier_uniform - 只能初始化weights，不能bias（维度不够，至少2维）\n",
    "            if len(para.size()) >= 2:\n",
    "                torch.nn.init.xavier_uniform(para)\n",
    "            else:\n",
    "                pass\n",
    "            \n",
    "            # method 2\n",
    "            # constant - 所有参数全部为0\n",
    "            # torch.nn.init.constant(para, val=0)\n",
    "            \n",
    "            # normal - 均值为0，方差为1的正态分布\n",
    "            # method 3\n",
    "            # torch.nn.init.normal(para)\n",
    "\n",
    "    def forward(self, x):\n",
    "        out = F.max_pool2d(F.relu(self.conv1(x)), (2, 2))\n",
    "        out = F.max_pool2d(F.relu(self.conv2(out)), (2, 2))\n",
    "        out = out.view(out.size(0), -1)  # reshape\n",
    "        out = F.relu(self.fc1(out))\n",
    "        out = F.relu(self.fc2(out))\n",
    "        out = self.fc3(out)\n",
    "        return out\n",
    "\n",
    "    def train_model(self, x, y):\n",
    "        self.train()\n",
    "        self.optimizer.zero_grad()\n",
    "        y_pred = self.forward(x)\n",
    "        loss = self.criterion(y_pred, y)\n",
    "        loss.backward()\n",
    "        self.optimizer.step()\n",
    "        return loss\n",
    "\n",
    "    def get_accuracy(self):\n",
    "        self.eval()\n",
    "        self.accuracy = 0.0\n",
    "        for _ in xrange(len(test_loader)):\n",
    "            batch_images, batch_labels = test_loader.__iter__().next()\n",
    "            batch_images = Variable(batch_images).cuda()\n",
    "            batch_labels = Variable(batch_labels).cuda()\n",
    "            pred = self.forward(batch_images)\n",
    "            acc = torch.max(pred.data, 1)[1] == batch_labels.data\n",
    "            acc = acc.float().mean()\n",
    "            self.accuracy += acc\n",
    "        return self.accuracy / len(test_loader)\n",
    "\n",
    "\n",
    "convNet = ConvNet()\n",
    "if GPU_FLAG:\n",
    "    convNet.cuda()\n",
    "else:\n",
    "    pass\n",
    "print(convNet)"
   ]
  },
  {
   "cell_type": "markdown",
   "metadata": {},
   "source": [
    "训练"
   ]
  },
  {
   "cell_type": "code",
   "execution_count": 7,
   "metadata": {},
   "outputs": [
    {
     "name": "stdout",
     "output_type": "stream",
     "text": [
      "Epoch 1 / 10, training cost: 0.00319787289735, accuracy: 0.93820001483\n",
      "Epoch 2 / 10, training cost: 0.00207941061051, accuracy: 0.968499994278\n",
      "Epoch 3 / 10, training cost: 0.00154965850412, accuracy: 0.978000003099\n",
      "Epoch 4 / 10, training cost: 0.000978155713384, accuracy: 0.982999992371\n",
      "Epoch 5 / 10, training cost: 0.000917070461593, accuracy: 0.98219999671\n",
      "Epoch 6 / 10, training cost: 0.000682684021992, accuracy: 0.982699996233\n",
      "Epoch 7 / 10, training cost: 0.000520122346282, accuracy: 0.987199997902\n",
      "Epoch 8 / 10, training cost: 0.000689025504034, accuracy: 0.983699983358\n",
      "Epoch 9 / 10, training cost: 0.00062260750128, accuracy: 0.985699999332\n",
      "Epoch 10 / 10, training cost: 0.000359179480311, accuracy: 0.989099997282\n"
     ]
    }
   ],
   "source": [
    "for i in xrange(1, 1 + EPISODES):\n",
    "    cost = 0.0\n",
    "    for _ in xrange(len(train_loader)):\n",
    "        images, labels = train_loader.__iter__().next()\n",
    "        if GPU_FLAG:\n",
    "            x_data = Variable(images).cuda()\n",
    "            y_data = Variable(labels).cuda()\n",
    "        else:\n",
    "            x_data = Variable(images)\n",
    "            y_data = Variable(labels)\n",
    "        loss = convNet.train_model(x=x_data, y=y_data)\n",
    "        cost += loss.data[0]\n",
    "        cost /= len(train_loader)\n",
    "    print('Epoch %s / %s, training cost: %s, accuracy: %s' % (i, EPISODES, cost, convNet.get_accuracy()))"
   ]
  },
  {
   "cell_type": "code",
   "execution_count": 8,
   "metadata": {},
   "outputs": [
    {
     "name": "stdout",
     "output_type": "stream",
     "text": [
      "Final test accuracy: %s 0.9879\n"
     ]
    }
   ],
   "source": [
    "correct = 0\n",
    "total = 0\n",
    "for images, labels in test_loader:\n",
    "    images = Variable(images.view(-1, 1, 28, 28)).cuda()\n",
    "    outputs = convNet(images)\n",
    "    _, predicted = torch.max(outputs.data, 1)\n",
    "    total += labels.size(0)\n",
    "    correct += (predicted.cpu() == labels).sum()\n",
    "print('Final test accuracy: %s', 1.0 * correct / total)"
   ]
  }
 ],
 "metadata": {
  "kernelspec": {
   "display_name": "Python 2",
   "language": "python",
   "name": "python2"
  },
  "language_info": {
   "codemirror_mode": {
    "name": "ipython",
    "version": 2
   },
   "file_extension": ".py",
   "mimetype": "text/x-python",
   "name": "python",
   "nbconvert_exporter": "python",
   "pygments_lexer": "ipython2",
   "version": "2.7.12"
  }
 },
 "nbformat": 4,
 "nbformat_minor": 1
}
