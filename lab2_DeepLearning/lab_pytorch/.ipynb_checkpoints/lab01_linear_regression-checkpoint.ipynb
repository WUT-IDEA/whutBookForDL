{
 "cells": [
  {
   "cell_type": "code",
   "execution_count": 1,
   "metadata": {},
   "outputs": [],
   "source": [
    "%matplotlib inline"
   ]
  },
  {
   "cell_type": "markdown",
   "metadata": {},
   "source": [
    "# Pytorch 线性回归\n",
    "Pytorch可以选择使用GPU/CPU完成运算过程，本例中为使用CPU运算"
   ]
  },
  {
   "cell_type": "code",
   "execution_count": 2,
   "metadata": {},
   "outputs": [],
   "source": [
    "# -*- coding: utf-8 -*-\n",
    "#!/usr/bin/env python\n",
    "from __future__ import print_function"
   ]
  },
  {
   "cell_type": "code",
   "execution_count": 3,
   "metadata": {},
   "outputs": [],
   "source": [
    "# 生成数据\n",
    "import numpy as np\n",
    "\n",
    "x_data = np.linspace(start=-1, stop=1, num=50)\n",
    "\n",
    "# x表示输入，y表示输出，y_表示y(hat)预测值\n",
    "# 噪声～正态分布，服从均值为0，方差为0.2\n",
    "y_data = 2 * x_data + 0.1\n",
    "y_data_noise = y_data + np.random.normal(loc=0, scale=0.2, size=x_data.shape)\n"
   ]
  },
  {
   "cell_type": "code",
   "execution_count": 4,
   "metadata": {},
   "outputs": [
    {
     "data": {
      "image/png": "[encoded data removed]",
      "text/plain": [
       "<matplotlib.figure.Figure at 0x7f557a3da950>"
      ]
     },
     "metadata": {},
     "output_type": "display_data"
    }
   ],
   "source": [
    "import matplotlib.pyplot as plt\n",
    "\n",
    "plt.plot(x_data, y_data, 'b-.')\n",
    "plt.plot(x_data, y_data_noise, 'ro')\n",
    "plt.show()"
   ]
  },
  {
   "cell_type": "code",
   "execution_count": 5,
   "metadata": {},
   "outputs": [
    {
     "name": "stdout",
     "output_type": "stream",
     "text": [
      "Epoch 1000 / 10000: loss = 0.206969, y = 1.25171 * x + 0.124742\n",
      "Epoch 2000 / 10000: loss = 0.0701028, y = 1.61417 * x + 0.115648\n",
      "Epoch 3000 / 10000: loss = 0.035978, y = 1.79523 * x + 0.11442\n",
      "Epoch 4000 / 10000: loss = 0.0274638, y = 1.88567 * x + 0.114254\n",
      "Epoch 5000 / 10000: loss = 0.0253394, y = 1.93085 * x + 0.114232\n",
      "Epoch 6000 / 10000: loss = 0.0248093, y = 1.95341 * x + 0.11423\n",
      "Epoch 7000 / 10000: loss = 0.024677, y = 1.96469 * x + 0.11423\n",
      "Epoch 8000 / 10000: loss = 0.024644, y = 1.97032 * x + 0.11423\n",
      "Epoch 9000 / 10000: loss = 0.0246358, y = 1.97313 * x + 0.11423\n",
      "Epoch 10000 / 10000: loss = 0.0246337, y = 1.97453 * x + 0.11423\n"
     ]
    }
   ],
   "source": [
    "# hyperparameter\n",
    "training_episode = 10000\n",
    "learning_rate = 0.001\n",
    "\n",
    "import torch\n",
    "from torch.autograd import Variable\n",
    "import torch.nn as nn\n",
    "\n",
    "model = nn.Linear(1, 1)\n",
    "\n",
    "# Loss and Optimizer\n",
    "criterion = nn.MSELoss()\n",
    "optimizer = torch.optim.SGD(model.parameters(), lr=learning_rate)\n",
    "\n",
    "# training\n",
    "for i in xrange(1, 1+training_episode):\n",
    "    x = Variable(torch.Tensor(x_data[..., None]))\n",
    "    y = Variable(torch.Tensor(y_data_noise[..., None]))\n",
    "    \n",
    "    optimizer.zero_grad() # Pytorch中的梯度是累加的，需要手动清空\n",
    "    y_ = model(x) # forward\n",
    "    loss = criterion(y_, y) # 计算loss/cost\n",
    "    loss.backward() # back-propagation\n",
    "    optimizer.step() # 更新权重\n",
    "\n",
    "    if i % 1000 == 0:\n",
    "        a, b = model.state_dict().values()\n",
    "        torchTensor2scalar = lambda x: x.numpy()\n",
    "        a, b, loss = torchTensor2scalar(a)[0, 0], torchTensor2scalar(b)[0], loss.data.numpy()[0]\n",
    "        print('Epoch %s / %s: loss = %s, y = %s * x + %s' % (\n",
    "            i , training_episode, loss, a, b))"
   ]
  },
  {
   "cell_type": "code",
   "execution_count": 6,
   "metadata": {},
   "outputs": [
    {
     "data": {
      "image/png": "[encoded data removed]",
      "text/plain": [
       "<matplotlib.figure.Figure at 0x7f557a139d10>"
      ]
     },
     "metadata": {},
     "output_type": "display_data"
    }
   ],
   "source": [
    "plt.plot(x_data, y_data, 'b-.', label='real')\n",
    "plt.plot(x_data, a * x_data + b, 'r--', label='predict')\n",
    "# plt.plot(x_data, y_data_noise, 'ro')\n",
    "plt.legend()\n",
    "plt.show()"
   ]
  }
 ],
 "metadata": {
  "kernelspec": {
   "display_name": "Python 2",
   "language": "python",
   "name": "python2"
  },
  "language_info": {
   "codemirror_mode": {
    "name": "ipython",
    "version": 2
   },
   "file_extension": ".py",
   "mimetype": "text/x-python",
   "name": "python",
   "nbconvert_exporter": "python",
   "pygments_lexer": "ipython2",
   "version": "2.7.12"
  }
 },
 "nbformat": 4,
 "nbformat_minor": 1
}
