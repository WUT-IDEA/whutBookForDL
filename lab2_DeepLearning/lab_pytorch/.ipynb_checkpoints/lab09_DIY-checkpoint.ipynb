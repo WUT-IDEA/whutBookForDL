{
 "cells": [
  {
   "cell_type": "code",
   "execution_count": 1,
   "metadata": {},
   "outputs": [],
   "source": [
    "%matplotlib inline"
   ]
  },
  {
   "cell_type": "markdown",
   "metadata": {},
   "source": [
    "自定义 - Self-define\n",
    "====\n",
    "Pytorch的forward可以自定义向前向后传播方式；定义新型网络可以用矩阵代替；loss函数将在本节通过两种方式显示\n",
    ">Python2.7 + Pytorch\n",
    ">\n",
    ">MNIST"
   ]
  },
  {
   "cell_type": "code",
   "execution_count": 2,
   "metadata": {},
   "outputs": [
    {
     "name": "stdout",
     "output_type": "stream",
     "text": [
      "CUDA available? True\n"
     ]
    }
   ],
   "source": [
    "# -*- coding: utf-8 -*-\n",
    "# !/usr/bin/env python\n",
    "\n",
    "from __future__ import print_function\n",
    "\n",
    "import torch\n",
    "import torch.nn as nn\n",
    "from torch.autograd import Variable\n",
    "import torch.utils.data as Data\n",
    "import torch.nn.functional as F\n",
    "import torchvision\n",
    "\n",
    "# Hyperparameters\n",
    "training_episodes = 100\n",
    "batch_size = 5000\n",
    "num_classes = 10\n",
    "\n",
    "GPU_FLAG = torch.cuda.is_available()\n",
    "print('CUDA available?', GPU_FLAG)"
   ]
  },
  {
   "cell_type": "code",
   "execution_count": 3,
   "metadata": {},
   "outputs": [
    {
     "ename": "NameError",
     "evalue": "name 'BATCH_SIZE' is not defined",
     "output_type": "error",
     "traceback": [
      "\u001b[0;31m---------------------------------------------------------------------------\u001b[0m",
      "\u001b[0;31mNameError\u001b[0m                                 Traceback (most recent call last)",
      "\u001b[0;32m<ipython-input-3-b95c60f21178>\u001b[0m in \u001b[0;36m<module>\u001b[0;34m()\u001b[0m\n\u001b[1;32m     14\u001b[0m )\n\u001b[1;32m     15\u001b[0m \u001b[0;34m\u001b[0m\u001b[0m\n\u001b[0;32m---> 16\u001b[0;31m \u001b[0mtrain_loader\u001b[0m \u001b[0;34m=\u001b[0m \u001b[0mData\u001b[0m\u001b[0;34m.\u001b[0m\u001b[0mDataLoader\u001b[0m\u001b[0;34m(\u001b[0m\u001b[0mdataset\u001b[0m\u001b[0;34m=\u001b[0m\u001b[0mtrain_data\u001b[0m\u001b[0;34m,\u001b[0m \u001b[0mbatch_size\u001b[0m\u001b[0;34m=\u001b[0m\u001b[0mBATCH_SIZE\u001b[0m\u001b[0;34m,\u001b[0m \u001b[0mshuffle\u001b[0m\u001b[0;34m=\u001b[0m\u001b[0mTrue\u001b[0m\u001b[0;34m)\u001b[0m\u001b[0;34m\u001b[0m\u001b[0m\n\u001b[0m\u001b[1;32m     17\u001b[0m \u001b[0mtest_loader\u001b[0m \u001b[0;34m=\u001b[0m \u001b[0mData\u001b[0m\u001b[0;34m.\u001b[0m\u001b[0mDataLoader\u001b[0m\u001b[0;34m(\u001b[0m\u001b[0mdataset\u001b[0m\u001b[0;34m=\u001b[0m\u001b[0mtrain_data\u001b[0m\u001b[0;34m,\u001b[0m \u001b[0mbatch_size\u001b[0m\u001b[0;34m=\u001b[0m\u001b[0mBATCH_SIZE\u001b[0m\u001b[0;34m,\u001b[0m \u001b[0mshuffle\u001b[0m\u001b[0;34m=\u001b[0m\u001b[0mTrue\u001b[0m\u001b[0;34m)\u001b[0m\u001b[0;34m\u001b[0m\u001b[0m\n",
      "\u001b[0;31mNameError\u001b[0m: name 'BATCH_SIZE' is not defined"
     ]
    }
   ],
   "source": [
    "# Mnist digits dataset\n",
    "train_data = torchvision.datasets.MNIST(\n",
    "    root='data/',\n",
    "    train=True,\n",
    "    transform=torchvision.transforms.ToTensor(),\n",
    "    download=True,\n",
    ")\n",
    "\n",
    "test_data = torchvision.datasets.MNIST(\n",
    "    root='data/',\n",
    "    train=False,\n",
    "    transform=torchvision.transforms.ToTensor(),\n",
    "    download=True,\n",
    ")\n",
    "\n",
    "train_loader = Data.DataLoader(dataset=train_data, batch_size=batch_size, shuffle=True)\n",
    "test_loader = Data.DataLoader(dataset=train_data, batch_size=batch_size, shuffle=True)"
   ]
  },
  {
   "cell_type": "markdown",
   "metadata": {},
   "source": [
    "方案1：定义在函数内部，作为网络的一部分"
   ]
  },
  {
   "cell_type": "code",
   "execution_count": null,
   "metadata": {},
   "outputs": [],
   "source": [
    "class Net1(nn.Module):\n",
    "    def __init__(self):\n",
    "        super(Net1, self).__init__()\n",
    "\n",
    "        self.fc1 = nn.Linear(28 * 28, 256)\n",
    "        torch.nn.init.xavier_uniform(self.fc1.weight)\n",
    "        self.fc2 = nn.Linear(256, num_classes)\n",
    "        torch.nn.init.xavier_uniform(self.fc2.weight)\n",
    "\n",
    "        self.optimizer = torch.optim.Adam(self.parameters(), lr=1e-3)\n",
    "\n",
    "    def forward(self, x):\n",
    "        out = F.relu(self.fc1(x))\n",
    "        out = self.fc2(out)\n",
    "        return out\n",
    "\n",
    "    def get_loss(self, x, y):\n",
    "        # loss\n",
    "        out = F.log_softmax(x)\n",
    "        out = torch.mean(-torch.sum(y * out, -1))\n",
    "        return out\n",
    "\n",
    "    def train_model(self, x, y):\n",
    "        self.train()\n",
    "        self.optimizer.zero_grad()\n",
    "        y_pred = self.forward(x)\n",
    "        loss = self.get_loss(y_pred, y)\n",
    "        loss.backward()\n",
    "        self.optimizer.step()\n",
    "        return loss\n",
    "\n",
    "    def get_accuracy(self):\n",
    "        self.eval()\n",
    "        self.accuracy = 0.0\n",
    "        for _ in xrange(len(test_loader)):\n",
    "            batch_images, batch_labels = test_loader.__iter__().next()\n",
    "            batch_images = Variable(batch_images.view(-1, 28 ** 2)).cuda()\n",
    "            batch_labels = Variable(batch_labels).cuda()\n",
    "            pred = self.forward(batch_images)\n",
    "            acc = torch.max(pred.data, 1)[1] == batch_labels.data\n",
    "            acc = acc.float().mean()\n",
    "            self.accuracy += acc\n",
    "        return self.accuracy / len(test_loader)\n",
    "\n",
    "\n",
    "net1 = Net1()\n",
    "# GPU运算\n",
    "net1.cuda()\n",
    "print(net1)"
   ]
  },
  {
   "cell_type": "code",
   "execution_count": null,
   "metadata": {},
   "outputs": [],
   "source": [
    "def one_hot(x, num_classes=N_CLASS):\n",
    "    x_one_hot = torch.LongTensor(x).view(-1, 1)\n",
    "    x_one_hot = torch.zeros(x_one_hot.size(0), num_classes).scatter_(1, x_one_hot, 1)\n",
    "    return x_one_hot"
   ]
  },
  {
   "cell_type": "code",
   "execution_count": null,
   "metadata": {},
   "outputs": [],
   "source": [
    "for i in xrange(1, 1 + training_episodes):\n",
    "    cost = 0.0\n",
    "    for _ in xrange(len(train_loader)):\n",
    "        images, labels = train_loader.__iter__().next()\n",
    "        x = Variable(images).view(-1, 28 ** 2).cuda()\n",
    "        y = Variable(one_hot(labels)).cuda()\n",
    "        loss = net1.train_model(x=x, y=y)\n",
    "        cost += loss.data[0]\n",
    "    cost /= len(train_loader)\n",
    "    if i % 10 == 0:\n",
    "        print('Epoch %s / %s, training cost: %s, accuracy: %s' % (i, training_episodes, cost, net1.get_accuracy()))"
   ]
  },
  {
   "cell_type": "markdown",
   "metadata": {},
   "source": [
    "方案二：定义一个单独的Loss类<br>\n",
    "本质上方案一二相差不打，但是方案二更加规范，源码中采用的方案二"
   ]
  },
  {
   "cell_type": "code",
   "execution_count": null,
   "metadata": {},
   "outputs": [],
   "source": [
    "class myCrossEntropyLoss(nn.Module):\n",
    "    def __init__(self):\n",
    "        super(myCrossEntropyLoss, self).__init__()\n",
    "\n",
    "    def forward(self, x, y):\n",
    "        out = F.log_softmax(x)\n",
    "        out = torch.mean(-torch.sum(y * out, -1))\n",
    "        return out"
   ]
  },
  {
   "cell_type": "code",
   "execution_count": null,
   "metadata": {},
   "outputs": [],
   "source": [
    "class Net2(nn.Module):\n",
    "    def __init__(self):\n",
    "        super(Net2, self).__init__()\n",
    "\n",
    "        self.fc1 = nn.Linear(28 * 28, 256)\n",
    "        torch.nn.init.xavier_uniform(self.fc1.weight)\n",
    "        self.fc2 = nn.Linear(256, num_classes)\n",
    "        torch.nn.init.xavier_uniform(self.fc2.weight)\n",
    "\n",
    "        # loss & optimizer\n",
    "        self.criterion = myCrossEntropyLoss()\n",
    "        self.optimizer = torch.optim.Adam(self.parameters(), lr=1e-3)\n",
    "\n",
    "    def forward(self, x):\n",
    "        out = F.relu(self.fc1(x))\n",
    "        out = self.fc2(out)\n",
    "        return out\n",
    "\n",
    "    def train_model(self, x, y):\n",
    "        self.train()\n",
    "        self.optimizer.zero_grad()\n",
    "        y_pred = self.forward(x)\n",
    "        loss = self.criterion(y_pred, y)\n",
    "        loss.backward()\n",
    "        self.optimizer.step()\n",
    "        return loss\n",
    "\n",
    "    def get_accuracy(self):\n",
    "        self.eval()\n",
    "        self.accuracy = 0.0\n",
    "        for _ in xrange(len(test_loader)):\n",
    "            batch_images, batch_labels = test_loader.__iter__().next()\n",
    "            batch_images = Variable(batch_images.view(-1, 28 ** 2)).cuda()\n",
    "            batch_labels = Variable(batch_labels).cuda()\n",
    "            pred = self.forward(batch_images)\n",
    "            acc = torch.max(pred.data, 1)[1] == batch_labels.data\n",
    "            acc = acc.float().mean()\n",
    "            self.accuracy += acc\n",
    "        return self.accuracy / len(test_loader)\n",
    "net2 = Net2()\n",
    "# GPU运算\n",
    "net2.cuda()\n",
    "print(net2)"
   ]
  },
  {
   "cell_type": "raw",
   "metadata": {},
   "source": [
    "for i in xrange(1, 1 + trainin_episodes):\n",
    "    cost = 0.0\n",
    "    for _ in xrange(len(train_loader)):\n",
    "        images, labels = train_loader.__iter__().next()\n",
    "        x = Variable(images).view(-1, 28 ** 2).cuda()\n",
    "        y = Variable(one_hot(labels)).cuda()\n",
    "        loss = net2.train_model(x=x, y=y)\n",
    "        cost += loss.data[0]\n",
    "    cost /= len(train_loader)\n",
    "    if i % 10 == 0:\n",
    "        print('Epoch %s / %s, training cost: %s, accuracy: %s' % (i, trainin_episodes, cost, net2.get_accuracy()))"
   ]
  }
 ],
 "metadata": {
  "kernelspec": {
   "display_name": "Python 2",
   "language": "python",
   "name": "python2"
  },
  "language_info": {
   "codemirror_mode": {
    "name": "ipython",
    "version": 2
   },
   "file_extension": ".py",
   "mimetype": "text/x-python",
   "name": "python",
   "nbconvert_exporter": "python",
   "pygments_lexer": "ipython2",
   "version": "2.7.12"
  }
 },
 "nbformat": 4,
 "nbformat_minor": 2
}
