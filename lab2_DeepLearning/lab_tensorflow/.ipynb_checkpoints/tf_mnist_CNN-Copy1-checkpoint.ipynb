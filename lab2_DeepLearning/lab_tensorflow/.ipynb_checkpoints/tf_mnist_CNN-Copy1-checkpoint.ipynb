{
 "cells": [
  {
   "cell_type": "code",
   "execution_count": 1,
   "metadata": {},
   "outputs": [],
   "source": [
    "%matplotlib inline"
   ]
  },
  {
   "cell_type": "markdown",
   "metadata": {},
   "source": [
    "递归神经网络 - Reursive Neural Network\n",
    "====\n",
    ">Python2.7 + TensorFlow 1.2.0 backened\n",
    ">\n",
    ">MNIST"
   ]
  },
  {
   "cell_type": "code",
   "execution_count": 2,
   "metadata": {},
   "outputs": [],
   "source": [
    "# -*- coding: utf-8 -*-\n",
    "#!/usr/bin/env python\n",
    "'''\n",
    "@author: deep learning textbook of whut\n",
    "@date: 2017-10-31\n",
    "'''\n",
    "from __future__ import print_function"
   ]
  },
  {
   "cell_type": "markdown",
   "metadata": {},
   "source": [
    "导入MNIST数据集 <br>\n",
    "import MNIST dataset"
   ]
  },
  {
   "cell_type": "code",
   "execution_count": 3,
   "metadata": {},
   "outputs": [
    {
     "name": "stdout",
     "output_type": "stream",
     "text": [
      "Extracting ../dataset/MNIST_data/train-images-idx3-ubyte.gz\n",
      "Extracting ../dataset/MNIST_data/train-labels-idx1-ubyte.gz\n",
      "Extracting ../dataset/MNIST_data/t10k-images-idx3-ubyte.gz\n",
      "Extracting ../dataset/MNIST_data/t10k-labels-idx1-ubyte.gz\n",
      "train data: 55000;\n",
      "validation data: 5000;\n",
      "test data: 10000.\n"
     ]
    }
   ],
   "source": [
    "import tensorflow as tf\n",
    "from tensorflow.examples.tutorials.mnist import input_data\n",
    "\n",
    "mnist = input_data.read_data_sets('../dataset/MNIST_data', one_hot=True)\n",
    "\n",
    "print('train data: %s;\\nvalidation data: %s;\\ntest data: %s.' % \\\n",
    "    (mnist.train.num_examples, mnist.validation.num_examples, mnist.test.num_examples))"
   ]
  },
  {
   "cell_type": "markdown",
   "metadata": {},
   "source": [
    "数据展示 <br>\n",
    "display"
   ]
  },
  {
   "cell_type": "code",
   "execution_count": 4,
   "metadata": {},
   "outputs": [
    {
     "data": {
      "image/png": "[encoded data removed]",
      "text/plain": [
       "<PIL.Image.Image image mode=I size=28x28 at 0x7FA3351C5190>"
      ]
     },
     "execution_count": 4,
     "metadata": {},
     "output_type": "execute_result"
    }
   ],
   "source": [
    "from PIL import Image\n",
    "\n",
    "image_size = 28\n",
    "\n",
    "sample = (mnist.test.images[1], mnist.test.labels[1])\n",
    "Image.fromarray(sample[0].reshape(image_size, image_size), 'I')"
   ]
  },
  {
   "cell_type": "code",
   "execution_count": 5,
   "metadata": {},
   "outputs": [
    {
     "data": {
      "text/plain": [
       "array([ 0.,  0.,  1.,  0.,  0.,  0.,  0.,  0.,  0.,  0.])"
      ]
     },
     "execution_count": 5,
     "metadata": {},
     "output_type": "execute_result"
    }
   ],
   "source": [
    "sample[1]"
   ]
  },
  {
   "cell_type": "markdown",
   "metadata": {},
   "source": [
    "some hyper-parameters"
   ]
  },
  {
   "cell_type": "code",
   "execution_count": 6,
   "metadata": {},
   "outputs": [],
   "source": [
    "trainingEpochs = 50\n",
    "n_class = 10\n",
    "\n",
    "timesteps = num_input = 28"
   ]
  },
  {
   "cell_type": "markdown",
   "metadata": {},
   "source": [
    "build model"
   ]
  },
  {
   "cell_type": "code",
   "execution_count": 7,
   "metadata": {},
   "outputs": [],
   "source": [
    "\n",
    "# placehold - define variable\n",
    "x_data = tf.placeholder(dtype=tf.float32, shape=[None, timesteps * num_input], name='x')\n",
    "# -1 for image number; 28,28 for image size; 1 for color channel\n",
    "x_data = tf.reshape(x_data, shape=(-1, timesteps, num_input))\n",
    "y_data = tf.placeholder(dtype=tf.int32, shape=[None, n_class], name='y')\n",
    "\n",
    "\n",
    "def RNN_model(input_data, activation=tf.nn.relu):\n",
    "    def LSTM(input_data, num_hidden, activation=activation, name=None):\n",
    "        input_data = tf.unstack(input_data, timesteps, 1)\n",
    "        with tf.variable_scope('LSTM_%s' % (name)):\n",
    "            lstm_cell = rnn.BasicLSTMCell(num_units=num_hidden,\n",
    "                                          forget_bias=1.0,\n",
    "                                          activation=activation)\n",
    "            outputs, _ = rnn.static_rnn(lstm_cell, input_data, dtype=tf.float32)\n",
    "            outputs = tf.stack(outputs, axis=1)\n",
    "            return outputs\n",
    "\n",
    "    def BRNN(input_data, num_hidden, BLOCK, layers=1, activation=activation, name=None):\n",
    "        input_data = tf.unstack(input_data, timesteps, 1)\n",
    "        with tf.variable_scope('LSTM_%s' % (name)):\n",
    "            fw_cell = []\n",
    "            bw_cell = []\n",
    "            for _ in xrange(layers):\n",
    "                fw_cell.append(BLOCK(num_units=num_hidden, forget_bias=1.0, activation=activation))\n",
    "                bw_cell.append(BLOCK(num_units=num_hidden, forget_bias=1.0, activation=activation))\n",
    "            outputs = rnn.stack_bidirectional_rnn(cells_fw=fw_cell, cells_bw=bw_cell,\n",
    "                                                  inputs=input_data, dtype=tf.float32)[0]\n",
    "            outputs = tf.stack(outputs, axis=1)\n",
    "            return outputs\n",
    "\n",
    "    # net = LSTM(input_data, num_hidden, name='1')\n",
    "    net = BRNN(input_data, num_hidden, BLOCK=rnn.BasicLSTMCell, layers=2, name='1')\n",
    "    return net\n",
    "\n",
    "\n",
    "RNN_model(input_data=x_data)"
   ]
  },
  {
   "cell_type": "markdown",
   "metadata": {},
   "source": [
    "training & evaluate ..."
   ]
  },
  {
   "cell_type": "code",
   "execution_count": 8,
   "metadata": {},
   "outputs": [
    {
     "name": "stdout",
     "output_type": "stream",
     "text": [
      "Epoch 1 / 50, training cost: 2.29940855286\n",
      "Epoch 2 / 50, training cost: 2.28541805527\n",
      "Epoch 3 / 50, training cost: 2.1400281581\n",
      "Epoch 4 / 50, training cost: 1.58833535151\n",
      "Epoch 5 / 50, training cost: 1.32514882196\n",
      "Epoch 6 / 50, training cost: 1.19071101384\n",
      "Epoch 7 / 50, training cost: 1.14393076138\n",
      "Epoch 8 / 50, training cost: 1.11414426999\n",
      "Epoch 9 / 50, training cost: 1.036608968\n",
      "Epoch 10 / 50, training cost: 1.03169548837\n",
      "Epoch 11 / 50, training cost: 0.987242283604\n",
      "Epoch 12 / 50, training cost: 1.03346028978\n",
      "Epoch 13 / 50, training cost: 0.980604412339\n",
      "Epoch 14 / 50, training cost: 1.00106332194\n",
      "Epoch 15 / 50, training cost: 0.97935861891\n",
      "Epoch 16 / 50, training cost: 0.951267585971\n",
      "Epoch 17 / 50, training cost: 0.967917457494\n",
      "Epoch 18 / 50, training cost: 0.939713160558\n",
      "Epoch 19 / 50, training cost: 0.901875648715\n",
      "Epoch 20 / 50, training cost: 0.912122347138\n",
      "Epoch 21 / 50, training cost: 0.896394896507\n",
      "Epoch 22 / 50, training cost: 0.904424332489\n",
      "Epoch 23 / 50, training cost: 0.896826084094\n",
      "Epoch 24 / 50, training cost: 0.919077198072\n",
      "Epoch 25 / 50, training cost: 0.904719117555\n",
      "Epoch 26 / 50, training cost: 0.839900514213\n",
      "Epoch 27 / 50, training cost: 0.876876528697\n",
      "Epoch 28 / 50, training cost: 0.944084740769\n",
      "Epoch 29 / 50, training cost: 0.900924096324\n",
      "Epoch 30 / 50, training cost: 0.899529651078\n",
      "Epoch 31 / 50, training cost: 0.909005880356\n",
      "Epoch 32 / 50, training cost: 0.904795022444\n",
      "Epoch 33 / 50, training cost: 0.838596853343\n",
      "Epoch 34 / 50, training cost: 0.914307012341\n",
      "Epoch 35 / 50, training cost: 0.881791344556\n",
      "Epoch 36 / 50, training cost: 0.840052163601\n",
      "Epoch 37 / 50, training cost: 0.870949787443\n",
      "Epoch 38 / 50, training cost: 0.881500704722\n",
      "Epoch 39 / 50, training cost: 0.871023729714\n",
      "Epoch 40 / 50, training cost: 0.878597500108\n",
      "Epoch 41 / 50, training cost: 0.833254882964\n",
      "Epoch 42 / 50, training cost: 0.84698956663\n",
      "Epoch 43 / 50, training cost: 0.853347425027\n",
      "Epoch 44 / 50, training cost: 0.841877170043\n",
      "Epoch 45 / 50, training cost: 0.802911145579\n",
      "Epoch 46 / 50, training cost: 0.812233998559\n",
      "Epoch 47 / 50, training cost: 0.825812751055\n",
      "Epoch 48 / 50, training cost: 0.815636199171\n",
      "Epoch 49 / 50, training cost: 0.758912900361\n",
      "Epoch 50 / 50, training cost: 0.660923857581\n",
      "0.7553\n",
      "predict:  2 ground truth:  2\n"
     ]
    }
   ],
   "source": [
    "with tf.Session(graph=graph) as session:\n",
    "    session.run(tf.global_variables_initializer())\n",
    "\n",
    "    for i in xrange(trainingEpochs):\n",
    "        cost = 0.0\n",
    "        batch_size = 1000\n",
    "        total_batch = mnist.train.num_examples // batch_size\n",
    "        for j in xrange(total_batch):\n",
    "            batch_x, batch_y = mnist.train.next_batch(total_batch)\n",
    "            _, batch_cost = session.run([optimizer, loss_op], feed_dict={\n",
    "                x_data: batch_x,\n",
    "                y_data: batch_y\n",
    "            })\n",
    "            cost += batch_cost\n",
    "        cost /= total_batch\n",
    "        print('Epoch %s / %s, training cost: %s' % (i + 1, trainingEpochs, cost))\n",
    "\n",
    "    feed = {\n",
    "        x_data: mnist.test.images,\n",
    "        y_data: mnist.test.labels\n",
    "    }\n",
    "    print(session.run([accuracy], feed_dict=feed)[0])\n",
    "    \n",
    "    import numpy as np\n",
    "    \n",
    "    prediction = session.run([tf.argmax(tf.nn.softmax(y_pred), 1)], feed_dict={\n",
    "        x_data: sample[0][None, :],\n",
    "        y_data: sample[1][None, :]\n",
    "    })[0][0]\n",
    "    \n",
    "    print('predict: ', prediction, 'ground truth: ', np.argmax(sample[1]))"
   ]
  },
  {
   "cell_type": "code",
   "execution_count": null,
   "metadata": {},
   "outputs": [],
   "source": []
  }
 ],
 "metadata": {
  "kernelspec": {
   "display_name": "Python 2",
   "language": "python",
   "name": "python2"
  },
  "language_info": {
   "codemirror_mode": {
    "name": "ipython",
    "version": 2
   },
   "file_extension": ".py",
   "mimetype": "text/x-python",
   "name": "python",
   "nbconvert_exporter": "python",
   "pygments_lexer": "ipython2",
   "version": "2.7.12"
  }
 },
 "nbformat": 4,
 "nbformat_minor": 1
}
