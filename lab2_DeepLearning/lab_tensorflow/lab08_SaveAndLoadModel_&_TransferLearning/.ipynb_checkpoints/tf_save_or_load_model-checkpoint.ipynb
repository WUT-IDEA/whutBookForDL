{
 "cells": [
  {
   "cell_type": "code",
   "execution_count": 1,
   "metadata": {},
   "outputs": [],
   "source": [
    "%matplotlib inline"
   ]
  },
  {
   "cell_type": "markdown",
   "metadata": {},
   "source": [
    "保存/加载参数 - save/load model of TensorFlow\n",
    "====\n",
    ">Python2.7 + TensorFlow 1.2.0 backened\n",
    ">\n",
    ">MNIST\n",
    ">在迁移学习中<b>“参数冻结(freeze)”</b>（即参数不可变更，视为常量）和<b>“导入预训练(pre-train)网络参数”</b>（即在网络训练之前，导入训练好的网络桉树，而不是初始化为随机数）"
   ]
  },
  {
   "cell_type": "code",
   "execution_count": 2,
   "metadata": {},
   "outputs": [],
   "source": [
    "# -*- coding: utf-8 -*-\n",
    "#!/usr/bin/env python\n",
    "'''\n",
    "@author: deep learning textbook of whut\n",
    "@date: 2017-10-31\n",
    "'''\n",
    "\n",
    "from __future__ import print_function"
   ]
  },
  {
   "cell_type": "code",
   "execution_count": 4,
   "metadata": {},
   "outputs": [
    {
     "name": "stdout",
     "output_type": "stream",
     "text": [
      "Extracting ../../dataset/MNIST_data/train-images-idx3-ubyte.gz\n",
      "Extracting ../../dataset/MNIST_data/train-labels-idx1-ubyte.gz\n",
      "Extracting ../../dataset/MNIST_data/t10k-images-idx3-ubyte.gz\n",
      "Extracting ../../dataset/MNIST_data/t10k-labels-idx1-ubyte.gz\n",
      "0.8671\n"
     ]
    }
   ],
   "source": [
    "# dataset\n",
    "from tensorflow.examples.tutorials.mnist import input_data\n",
    "\n",
    "mnist = input_data.read_data_sets(\"../../dataset/MNIST_data/\", one_hot=True)\n",
    "\n",
    "import tensorflow as tf\n",
    "\n",
    "# default graph\n",
    "sess = tf.InteractiveSession()\n",
    "\n",
    "# hyper parameters\n",
    "input_size = 784\n",
    "hidden_size = 64\n",
    "num_classes = 10\n",
    "\n",
    "# placeholder\n",
    "x = tf.placeholder(tf.float32, [None, input_size])\n",
    "y = tf.placeholder(tf.float32, [None, num_classes])\n",
    "\n",
    "# model\n",
    "# hidden layer\n",
    "weights = tf.Variable(tf.random_normal([input_size, hidden_size]), name='linear1_kernel')\n",
    "bias = tf.Variable(tf.random_normal([hidden_size]), name='linear1_bias')\n",
    "linear1 = tf.matmul(x, weights) + bias\n",
    "linear2 = tf.layers.dense(inputs=linear1, units=num_classes, activation=tf.nn.softmax, name='linear2')\n",
    "y_ = linear2\n",
    "\n",
    "# metrics\n",
    "loss_op = tf.reduce_mean(-tf.reduce_sum(y * tf.log(y_), axis=-1))\n",
    "optimizer = tf.train.AdamOptimizer(learning_rate=1e-3)\n",
    "train_op = optimizer.minimize(loss_op)\n",
    "accuracy = tf.reduce_mean(tf.cast(tf.equal(tf.argmax(y, 1), tf.argmax(y_, 1)), dtype=tf.float32))\n",
    "\n",
    "# initialize global graph\n",
    "tf.global_variables_initializer().run()\n",
    "\n",
    "# training\n",
    "for i in range(1000):\n",
    "    batch_xs, batch_ys = mnist.train.next_batch(100)\n",
    "    train_op.run({x: batch_xs, y: batch_ys})\n",
    "\n",
    "# evaluate\n",
    "print(accuracy.eval({x: mnist.test.images, y: mnist.test.labels}))"
   ]
  },
  {
   "cell_type": "markdown",
   "metadata": {},
   "source": [
    "## 方法一\n",
    "利用`TensorFlow`自带的`save`和`restore`，保存和加载模型"
   ]
  },
  {
   "cell_type": "code",
   "execution_count": 5,
   "metadata": {},
   "outputs": [
    {
     "name": "stdout",
     "output_type": "stream",
     "text": [
      "<tf.Variable 'linear1_kernel:0' shape=(784, 64) dtype=float32_ref>\n",
      "<tf.Variable 'linear1_bias:0' shape=(64,) dtype=float32_ref>\n",
      "<tf.Variable 'linear2/kernel:0' shape=(64, 10) dtype=float32_ref>\n",
      "<tf.Variable 'linear2/bias:0' shape=(10,) dtype=float32_ref>\n",
      "INFO:tensorflow:Restoring parameters from ./model.ckpt\n",
      "0.8671\n"
     ]
    }
   ],
   "source": [
    "# save\n",
    "saver = tf.train.Saver()\n",
    "saver.save(sess, './model.ckpt')\n",
    "\n",
    "# load\n",
    "variables_list = tf.trainable_variables() \n",
    "for variables in variables_list:\n",
    "    print(variables)\n",
    "# 导入部分网络参数\n",
    "saver = tf.train.Saver(variables_list[:1]) # Saver参数为空，表示导入全部\n",
    "saver.restore(sess, './model.ckpt')\n",
    "\n",
    "# evaluate\n",
    "print(accuracy.eval({x: mnist.test.images, y: mnist.test.labels}))"
   ]
  },
  {
   "cell_type": "markdown",
   "metadata": {},
   "source": [
    "## 方法二\n",
    "利用`Numpy`保存和导入参数"
   ]
  },
  {
   "cell_type": "code",
   "execution_count": 10,
   "metadata": {},
   "outputs": [],
   "source": [
    "import numpy as np\n",
    "\n",
    "variables_list = tf.trainable_variables()\n",
    "# save\n",
    "for variables in variables_list:\n",
    "    np.save(file=variables.name.replace('/', '_') + '.npy', arr=variables.eval())\n",
    "\n",
    "# load\n",
    "for variables in variables_list:\n",
    "    variables.load(value=np.load(variables.name.replace('/', '_') + '.npy'))"
   ]
  },
  {
   "cell_type": "markdown",
   "metadata": {},
   "source": [
    "会生成一下文件： <br>\n",
    "linear1_bias.npy <br>\n",
    "linear1_kernel.npy <br>\n",
    "linear2_bias.npy <br>\n",
    "linear2_kernel.npy <br>"
   ]
  }
 ],
 "metadata": {
  "kernelspec": {
   "display_name": "Python 2",
   "language": "python",
   "name": "python2"
  },
  "language_info": {
   "codemirror_mode": {
    "name": "ipython",
    "version": 2
   },
   "file_extension": ".py",
   "mimetype": "text/x-python",
   "name": "python",
   "nbconvert_exporter": "python",
   "pygments_lexer": "ipython2",
   "version": "2.7.12"
  }
 },
 "nbformat": 4,
 "nbformat_minor": 1
}
